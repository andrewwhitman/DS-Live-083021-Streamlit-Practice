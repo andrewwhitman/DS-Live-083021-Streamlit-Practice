{
 "cells": [
  {
   "cell_type": "markdown",
   "id": "d9a450cf",
   "metadata": {},
   "source": [
    "# Austin Animal Shelter Data Exploration"
   ]
  },
  {
   "cell_type": "markdown",
   "id": "a51b504e",
   "metadata": {},
   "source": [
    "![Front of the Austin Animal Center building](images/austin-animal-center-front.jpeg)\n",
    "\n",
    "## Scenario\n",
    "\n",
    "The Austin Animal Center keeps great records of their animal intakes, but it's a lot of data. Your task - to process and find some initial high-level insights to start figuring out what trends are in the data. But insights left in a notebook like this are wasted - you also want to visualize what you've found to showcase to others!\n",
    "\n",
    "## The Data\n",
    "\n",
    "[Austin Animal Center Intakes Data](https://data.austintexas.gov/Health-and-Community-Services/Austin-Animal-Center-Intakes/wter-evkm/) - updated pretty much every day!\n",
    "\n",
    "Note - I did some initial pre-processing, and used an additional library to add more details to the location data provided (finding associated latitudes, longitudes and zipcodes for about a third of the data we'll use today).\n",
    "\n",
    "## The Questions\n",
    "\n",
    "1. What kind of animals are brought into the Center?\n",
    "\n",
    "2. How has the number of animals brought in changed over time?\n",
    "\n",
    "3. Where are most of the animals found?"
   ]
  },
  {
   "cell_type": "markdown",
   "id": "a35eb551",
   "metadata": {},
   "source": [
    "## Getting Started"
   ]
  },
  {
   "cell_type": "code",
   "execution_count": null,
   "id": "e1f95318",
   "metadata": {},
   "outputs": [],
   "source": []
  },
  {
   "cell_type": "code",
   "execution_count": 1,
   "id": "a15a0f91",
   "metadata": {},
   "outputs": [
    {
     "ename": "ModuleNotFoundError",
     "evalue": "No module named 'plotly'",
     "output_type": "error",
     "traceback": [
      "\u001b[0;31m---------------------------------------------------------------------------\u001b[0m",
      "\u001b[0;31mModuleNotFoundError\u001b[0m                       Traceback (most recent call last)",
      "\u001b[0;32m/var/folders/s_/07x8cv0x05l5r3jtt5h612hc0000gq/T/ipykernel_7139/4019841322.py\u001b[0m in \u001b[0;36m<module>\u001b[0;34m\u001b[0m\n\u001b[1;32m      4\u001b[0m \u001b[0;34m\u001b[0m\u001b[0m\n\u001b[1;32m      5\u001b[0m \u001b[0;31m# Plotly for data visualization\u001b[0m\u001b[0;34m\u001b[0m\u001b[0;34m\u001b[0m\u001b[0;34m\u001b[0m\u001b[0m\n\u001b[0;32m----> 6\u001b[0;31m \u001b[0;32mimport\u001b[0m \u001b[0mplotly\u001b[0m\u001b[0;34m.\u001b[0m\u001b[0mexpress\u001b[0m \u001b[0;32mas\u001b[0m \u001b[0mpx\u001b[0m\u001b[0;34m\u001b[0m\u001b[0;34m\u001b[0m\u001b[0m\n\u001b[0m",
      "\u001b[0;31mModuleNotFoundError\u001b[0m: No module named 'plotly'"
     ]
    }
   ],
   "source": [
    "# Imports\n",
    "# Pandas for data manipulation\n",
    "import pandas as pd\n",
    "\n",
    "# Plotly for data visualization\n",
    "import plotly.express as px"
   ]
  },
  {
   "cell_type": "code",
   "execution_count": null,
   "id": "b91915e4",
   "metadata": {},
   "outputs": [],
   "source": [
    "# Read in the data\n",
    "df = pd.read_csv('data/Austin_Animal_Center_Intakes_061521_with_location_details.csv')"
   ]
  },
  {
   "cell_type": "code",
   "execution_count": null,
   "id": "3b3bff45",
   "metadata": {},
   "outputs": [],
   "source": [
    "# Check it out - let's look at the first five rows\n",
    "df.head()"
   ]
  },
  {
   "cell_type": "code",
   "execution_count": null,
   "id": "33694b5f",
   "metadata": {},
   "outputs": [],
   "source": [
    "# Let's also look some information on the data\n",
    "df.info()"
   ]
  },
  {
   "cell_type": "code",
   "execution_count": null,
   "id": "b9d58194",
   "metadata": {
    "scrolled": true
   },
   "outputs": [],
   "source": [
    "# And let's see if we can describe it to find trends\n",
    "df.describe()"
   ]
  },
  {
   "cell_type": "markdown",
   "id": "b1de7469",
   "metadata": {},
   "source": [
    "## Question 1: What kind of animals are brought into the Center?\n",
    "\n",
    "Just need one column for this - the Animal Type."
   ]
  },
  {
   "cell_type": "code",
   "execution_count": null,
   "id": "83acaa3b",
   "metadata": {},
   "outputs": [],
   "source": [
    "# Explore the breakdown of the Animal Type column\n",
    "df['Animal Type'].value_counts()"
   ]
  },
  {
   "cell_type": "code",
   "execution_count": null,
   "id": "1996841c",
   "metadata": {},
   "outputs": [],
   "source": [
    "# Wow - birds and livestock make up such a small percentage\n",
    "# Let's lump them in with 'Other' for a more effective visualization with replace\n",
    "\n",
    "df['Animal Type'] = df['Animal Type'].replace({'Bird': 'Other', 'Livestock': 'Other'})"
   ]
  },
  {
   "cell_type": "code",
   "execution_count": null,
   "id": "87c3ce1c",
   "metadata": {},
   "outputs": [],
   "source": [
    "# Now let's see how that changed\n",
    "df['Animal Type'].value_counts()"
   ]
  },
  {
   "cell_type": "code",
   "execution_count": null,
   "id": "d636fd56",
   "metadata": {},
   "outputs": [],
   "source": [
    "# Capture that output in a variable - then reset the index to make it a dataframe\n",
    "types = df['Animal Type'].value_counts().reset_index()"
   ]
  },
  {
   "cell_type": "code",
   "execution_count": null,
   "id": "a3ce7700",
   "metadata": {},
   "outputs": [],
   "source": [
    "# Explore the variable we just created - we should rename these columns!\n",
    "types.head()"
   ]
  },
  {
   "cell_type": "code",
   "execution_count": null,
   "id": "cfe9cbe8",
   "metadata": {},
   "outputs": [],
   "source": [
    "# So let's do that - rename the columns to actually describe the data\n",
    "types = types.rename(columns={'index':'Type', 'Animal Type': 'Count'})"
   ]
  },
  {
   "cell_type": "code",
   "execution_count": null,
   "id": "569802b4",
   "metadata": {},
   "outputs": [],
   "source": [
    "# Check our work\n",
    "types.head()"
   ]
  },
  {
   "cell_type": "code",
   "execution_count": null,
   "id": "ec608d6c",
   "metadata": {},
   "outputs": [],
   "source": [
    "# Visualize it! With the world's most controversial chart... a pie chart\n",
    "# https://plotly.com/python/pie-charts/\n",
    "fig = px.pie(types, values='Count', names='Type',\n",
    "             color_discrete_sequence=px.colors.qualitative.Pastel)\n",
    "fig.show()"
   ]
  },
  {
   "cell_type": "markdown",
   "id": "162a7312",
   "metadata": {},
   "source": [
    "## Question 2: How has the number of animals brought in changed over time?\n",
    "\n",
    "Here we'll need to look at our DateTime column - but also get an idea of the number of animals arriving per day. Time for a group by!"
   ]
  },
  {
   "cell_type": "code",
   "execution_count": null,
   "id": "acb56653",
   "metadata": {},
   "outputs": [],
   "source": [
    "# Let's explore our DateTime column using describe\n",
    "df['DateTime'].describe()"
   ]
  },
  {
   "cell_type": "code",
   "execution_count": null,
   "id": "b3b31c2c",
   "metadata": {},
   "outputs": [],
   "source": [
    "# Pandas isn't recognizing this as a datetime object - let's fix that\n",
    "df['DateTime'] = pd.to_datetime(df['DateTime'])"
   ]
  },
  {
   "cell_type": "code",
   "execution_count": null,
   "id": "74ff16dd",
   "metadata": {},
   "outputs": [],
   "source": [
    "# Check our work using describe again\n",
    "df['DateTime'].describe(datetime_is_numeric=True)"
   ]
  },
  {
   "cell_type": "code",
   "execution_count": null,
   "id": "6b9711a5",
   "metadata": {},
   "outputs": [],
   "source": [
    "# We won't need the hour/minute/second data - just the date\n",
    "# Can use normalize on the datetime attribute of this column to fix it\n",
    "df['DateTime'].dt.normalize().head()"
   ]
  },
  {
   "cell_type": "code",
   "execution_count": null,
   "id": "7bff3ea5",
   "metadata": {},
   "outputs": [],
   "source": [
    "# Let's save that output as a new column, Date\n",
    "df['Date'] = df['DateTime'].dt.normalize()"
   ]
  },
  {
   "cell_type": "code",
   "execution_count": null,
   "id": "23e27d13",
   "metadata": {},
   "outputs": [],
   "source": [
    "# Check our work - let's use info\n",
    "df.info()"
   ]
  },
  {
   "cell_type": "code",
   "execution_count": null,
   "id": "f53a2bc0",
   "metadata": {},
   "outputs": [],
   "source": [
    "# Now - time for that group by!\n",
    "# Let's explore what's happening in the groupby, then save it to a variable\n",
    "count_over_time = df.groupby(by='Date').count()['Animal ID']"
   ]
  },
  {
   "cell_type": "code",
   "execution_count": null,
   "id": "69c93259",
   "metadata": {},
   "outputs": [],
   "source": [
    "# Time for a line chart!\n",
    "# https://plotly.com/python/line-charts/\n",
    "fig = px.line(count_over_time, y='Animal ID')\n",
    "fig.show()"
   ]
  },
  {
   "cell_type": "code",
   "execution_count": null,
   "id": "df499027",
   "metadata": {
    "scrolled": true
   },
   "outputs": [],
   "source": [
    "# Woah - that's a bit messy. Let's just look at a montly breakdown\n",
    "# We can resample, then grab the sum per month\n",
    "count_over_time = count_over_time.resample('M').sum()"
   ]
  },
  {
   "cell_type": "code",
   "execution_count": null,
   "id": "1159ac7a",
   "metadata": {},
   "outputs": [],
   "source": [
    "# Time for another line chart!\n",
    "fig = px.line(count_over_time, y='Animal ID')\n",
    "fig.show()"
   ]
  },
  {
   "cell_type": "code",
   "execution_count": null,
   "id": "eff7caea",
   "metadata": {},
   "outputs": [],
   "source": [
    "# Looks like we have an annual trend - let's take a better look...\n",
    "# Let's go back to our original dataframe and create a new groupby for this...\n",
    "# First - grab out the Year and Month as new columns\n",
    "df['Year'] = df['DateTime'].dt.year\n",
    "df['Month'] = df['DateTime'].dt.month"
   ]
  },
  {
   "cell_type": "code",
   "execution_count": null,
   "id": "570d4752",
   "metadata": {},
   "outputs": [],
   "source": [
    "# Check our work...\n",
    "df.head()"
   ]
  },
  {
   "cell_type": "code",
   "execution_count": null,
   "id": "8d6bb2e4",
   "metadata": {},
   "outputs": [],
   "source": [
    "# A new groupby - now with two columns to group by!\n",
    "# Let's explore, reset the index for clarity, then save to a variable\n",
    "annual_trend = df.groupby(['Year', 'Month']).count()['Animal ID'].reset_index()"
   ]
  },
  {
   "cell_type": "code",
   "execution_count": null,
   "id": "f0abb9cc",
   "metadata": {},
   "outputs": [],
   "source": [
    "# One last line chart!\n",
    "fig = px.line(annual_trend, y='Animal ID', x='Month', color='Year',\n",
    "              labels={'Animal ID': 'Number of Animal Intakes'}) # better x label for clarity\n",
    "fig.show()"
   ]
  },
  {
   "cell_type": "markdown",
   "id": "de5f7d9b",
   "metadata": {},
   "source": [
    "## Question 3: Where are most of the animals found?\n",
    "\n",
    "Last question! Here, we'll start playing with map objects, using some of our location data.\n",
    "\n",
    "Let's group by the number of animals found at each location."
   ]
  },
  {
   "cell_type": "code",
   "execution_count": null,
   "id": "9e9d142c",
   "metadata": {},
   "outputs": [],
   "source": [
    "# First - let's explore our Found Location column\n",
    "df['Found Location'].value_counts()"
   ]
  },
  {
   "cell_type": "code",
   "execution_count": null,
   "id": "ec10e603",
   "metadata": {},
   "outputs": [],
   "source": [
    "# Now - let's just see the animals that we have precise location details for\n",
    "# How can we get just the animals with Found Zipcode details?\n",
    "# Let's save that new subset dataframe to a new variable\n",
    "location_df = df.loc[df['Found Zipcode'].isna() == False]"
   ]
  },
  {
   "cell_type": "code",
   "execution_count": null,
   "id": "80ac2462",
   "metadata": {},
   "outputs": [],
   "source": [
    "# Now let's check our the breakdown of our Found Location column\n",
    "location_df['Found Location'].value_counts()"
   ]
  },
  {
   "cell_type": "code",
   "execution_count": null,
   "id": "3025b7f3",
   "metadata": {},
   "outputs": [],
   "source": [
    "# Time to group by! We want the count of animals at each location\n",
    "# Note - we want the latitude and longitude too, to visualize in a minute\n",
    "location_count = location_df.groupby(by=['Found Location', \n",
    "                                         'Found Latitude', \n",
    "                                         'Found Longitude']).count()['Animal ID'].reset_index()"
   ]
  },
  {
   "cell_type": "code",
   "execution_count": null,
   "id": "2da18e72",
   "metadata": {},
   "outputs": [],
   "source": [
    "# Let's rename that Animal ID column to be descriptive\n",
    "location_count = location_count.rename(columns={'Animal ID':'Count'})"
   ]
  },
  {
   "cell_type": "code",
   "execution_count": null,
   "id": "81b1c474",
   "metadata": {},
   "outputs": [],
   "source": [
    "# Check our work\n",
    "location_count.head()"
   ]
  },
  {
   "cell_type": "code",
   "execution_count": null,
   "id": "b770653a",
   "metadata": {
    "scrolled": false
   },
   "outputs": [],
   "source": [
    "# Now... map time!\n",
    "# https://plotly.com/python/mapbox-layers/\n",
    "fig = px.scatter_mapbox(location_count, lat=\"Found Latitude\", lon=\"Found Longitude\",\n",
    "                        color=\"Count\", size=\"Count\",zoom=10,\n",
    "                        hover_name='Found Location')\n",
    "fig.update_layout(mapbox_style=\"open-street-map\")\n",
    "fig.show()"
   ]
  },
  {
   "cell_type": "markdown",
   "id": "ca72537c",
   "metadata": {},
   "source": [
    "## Move to Streamlit!\n",
    "\n",
    "Now that we've answered our three questions - let's open up our `app.py` file in this folder to see how this can translate to Streamlit.\n",
    "\n",
    "If you're running this at home, instead of in Binder, you can also run the app using the terminal command `streamlit run app.py`\n",
    "\n",
    "Or - check out the deployed version! https://austin-animal-center-data.herokuapp.com/"
   ]
  },
  {
   "cell_type": "markdown",
   "id": "5dfdb2aa",
   "metadata": {},
   "source": [
    "### Thank you for joining us!"
   ]
  }
 ],
 "metadata": {
  "kernelspec": {
   "display_name": "Python 3 (ipykernel)",
   "language": "python",
   "name": "python3"
  },
  "language_info": {
   "codemirror_mode": {
    "name": "ipython",
    "version": 3
   },
   "file_extension": ".py",
   "mimetype": "text/x-python",
   "name": "python",
   "nbconvert_exporter": "python",
   "pygments_lexer": "ipython3",
   "version": "3.8.5"
  }
 },
 "nbformat": 4,
 "nbformat_minor": 5
}
